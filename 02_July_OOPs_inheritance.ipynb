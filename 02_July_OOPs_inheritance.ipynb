{
 "cells": [
  {
   "cell_type": "markdown",
   "id": "4d08cda1",
   "metadata": {},
   "source": [
    "#### 1. Explain what inheritance is in object-oriented programming and why it is used."
   ]
  },
  {
   "cell_type": "markdown",
   "id": "3d4d7a49",
   "metadata": {},
   "source": [
    "Inheritance is a fundamental concept in object-oriented programming(OOP) that allows classes to inherit properties and behaviours from other classes.  It enables the creation of a hierarchy of classes, where derived classes (also called subclasses or child classes) inherit the characteristics of a base class (also called superclass or parent class).\n",
    "<br>\n",
    "Inheritance is used for code reusability, organization, polymorphism, specialization and generalization, etc."
   ]
  },
  {
   "cell_type": "markdown",
   "id": "77745850",
   "metadata": {},
   "source": [
    "#### 2. Discuss the concept of single inheritance and multiple inheritance, highlighting their differences and advantages."
   ]
  },
  {
   "cell_type": "markdown",
   "id": "98c5d0b3",
   "metadata": {},
   "source": [
    "Single inheritance allows a class to inherit from only one superclass. The subclass inherits the attributes and behaviors of its single superclass, allowing code reuse and specialization.\n",
    "<br>\n",
    "The advantages of single inheritance include simplicity of code, avoidance of potential complexities associated with multiple inheritance (such as the diamond problem), easier design, etc.\n",
    "<br><br>\n",
    "Multiple inheritance allows a class to inherit from multiple superclasses, i.e., a subclass can have multiple direct parent classes. The subclass inherits attributes and behaviors from all of its parent classes, effectively combining the features of multiple classes.\n",
    "<br>\n",
    "The advantages of multiple inheritance include flexibility of code, allowance of complex relationships within the class hierarchy, enhanced functionality, etc."
   ]
  },
  {
   "cell_type": "markdown",
   "id": "12fdc9d3",
   "metadata": {},
   "source": [
    "#### 3. Explain the terms \"base class\" and \"derived class\" in the context of inheritance."
   ]
  },
  {
   "cell_type": "markdown",
   "id": "ac7e12a3",
   "metadata": {},
   "source": [
    "A base class is the class from which other classes inherit. It is at a higher level in the class hierarchy and serves as a template or blueprint for derived classes. A base class defines common attributes and behaviors that are shared among multiple derived classes.\n",
    "<br><br>\n",
    "A derived class is a class that inherits attributes and behaviors from a base class. The derived class extends or specializes the base class by adding its unique attributes and behaviors. The derived class can have its own additional methods, attributes, or override the inherited methods from the base class.\n",
    "<br><br>\n",
    "Here's an example showing a base class and a derived class."
   ]
  },
  {
   "cell_type": "code",
   "execution_count": 1,
   "id": "2f0114d6",
   "metadata": {},
   "outputs": [],
   "source": [
    "class Vehicle:          #Base Class\n",
    "    def __init__(self, brand):\n",
    "        self.brand = brand\n",
    "\n",
    "    def drive(self):\n",
    "        print(\"Driving a\", self.brand)\n",
    "\n",
    "class Car(Vehicle):          #Derived Class\n",
    "    def __init__(self, brand, model):\n",
    "        super().__init__(brand)\n",
    "        self.model = model\n",
    "\n",
    "    def honk(self):\n",
    "        print(\"Honking the horn\")"
   ]
  },
  {
   "cell_type": "code",
   "execution_count": 2,
   "id": "68a8261e",
   "metadata": {},
   "outputs": [
    {
     "name": "stdout",
     "output_type": "stream",
     "text": [
      "Driving a Generic Vehicle\n",
      "Driving a Tesla\n",
      "Honking the horn\n"
     ]
    }
   ],
   "source": [
    "#Creating instances of the classes\n",
    "vehicle1 = Vehicle(\"Generic Vehicle\")\n",
    "car1 = Car(\"Tesla\", \"Model 3\")\n",
    "\n",
    "#Accessing base class methods\n",
    "vehicle1.drive()     #Output: Driving a Generic Vehicle\n",
    "car1.drive()         #Output: Driving a Tesla\n",
    "\n",
    "# Accessing derived class methods\n",
    "car1.honk()          #Output: Honking the horn"
   ]
  },
  {
   "cell_type": "markdown",
   "id": "c34519df",
   "metadata": {},
   "source": [
    "#### 4. What is the significance of the \"protected\" access modifier in inheritance? How does it differ from \"private\" and \"public\" modifiers?"
   ]
  },
  {
   "cell_type": "markdown",
   "id": "d3c8b228",
   "metadata": {},
   "source": [
    "Protected members are accessible within the class and its subclasses (derived classes). In inheritance, protected members of the base class are inherited as protected members in the derived class. Protected members can be accessed by objects of the derived class but not by objects of unrelated classes.\n",
    "<br><br>\n",
    "Unlike protected members, private members are accessible only within the class in which they are defined. In inheritance, private members of the base class are not directly accessible in the derived class.Private members are not inherited and cannot be accessed by objects of the derived class.\n",
    "<br><br>\n",
    "Unlike protected members, public members are accessible from anywhere, including outside the class hierarchy. In inheritance, public members of the base class are inherited as public members in the derived class. Public members can be accessed by objects of both the base and derived classes."
   ]
  },
  {
   "cell_type": "markdown",
   "id": "236ecd5b",
   "metadata": {},
   "source": [
    "#### 5. What is the purpose of the \"super\" keyword in inheritance? Provide an example."
   ]
  },
  {
   "cell_type": "markdown",
   "id": "3918f108",
   "metadata": {},
   "source": [
    "The \"`super`\" keyword in inheritance is used to refer to the superclass (or base class) of the current class. It provides a way to access and invoke the superclass's attributes and methods from within the subclass.\n",
    "<br><br>\n",
    "Here's an example showing the use of \"`super`\" keyword."
   ]
  },
  {
   "cell_type": "code",
   "execution_count": 3,
   "id": "5ddccd56",
   "metadata": {},
   "outputs": [],
   "source": [
    "class Shape:\n",
    "    def __init__(self, color):\n",
    "        self.color = color\n",
    "\n",
    "    def display_color(self):\n",
    "        print(f\"The shape's color is {self.color}.\")\n",
    "\n",
    "class Circle(Shape):\n",
    "    def __init__(self, color, radius):\n",
    "        super().__init__(color)\n",
    "        self.radius = radius\n",
    "\n",
    "    def display_radius(self):\n",
    "        print(f\"The circle's radius is {self.radius}.\")"
   ]
  },
  {
   "cell_type": "code",
   "execution_count": 4,
   "id": "b16459ba",
   "metadata": {},
   "outputs": [
    {
     "name": "stdout",
     "output_type": "stream",
     "text": [
      "The shape's color is Red.\n",
      "The circle's radius is 5.\n"
     ]
    }
   ],
   "source": [
    "#Creating an instance of the Circle class\n",
    "circle = Circle(\"Red\", 5)\n",
    "\n",
    "#Accessing superclass member using super()\n",
    "circle.display_color()   #Output: The shape's color is Red.\n",
    "\n",
    "#Invoking subclass method\n",
    "circle.display_radius()  #Output: The circle's radius is 5."
   ]
  },
  {
   "cell_type": "markdown",
   "id": "6c9aedc4",
   "metadata": {},
   "source": [
    "#### 6. Create a base class called \"Vehicle\" with attributes like \"make\", \"model\", and \"year\". Then, create a derived class called \"Car\" that inherits from \"Vehicle\" and adds an attribute called \"fuel_type\". Implement appropriate methods in both classes."
   ]
  },
  {
   "cell_type": "code",
   "execution_count": 5,
   "id": "3894cd70",
   "metadata": {},
   "outputs": [],
   "source": [
    "class Vehicle:\n",
    "    def __init__(self, make, model, year):\n",
    "        self.make = make\n",
    "        self.model = model\n",
    "        self.year = year\n",
    "    def __str__(self):\n",
    "        return f\"The vehicle is {self.make} - {self.model} ({self.year})\"\n",
    "class Car(Vehicle):\n",
    "    def __init__(self, make, model, year, fuel_type):\n",
    "        super().__init__(make, model, year)\n",
    "        self.fuel_type = fuel_type\n",
    "    def car_details(self):\n",
    "        print(f\"{super().__str__()}; Fuel Type: {self.fuel_type}\")"
   ]
  },
  {
   "cell_type": "code",
   "execution_count": 6,
   "id": "f67f0be3",
   "metadata": {},
   "outputs": [
    {
     "name": "stdout",
     "output_type": "stream",
     "text": [
      "The vehicle is Toyota - Camry (2022); Fuel Type: Gasoline\n",
      "The vehicle is Tesla - Model S (2023); Fuel Type: Electric\n"
     ]
    }
   ],
   "source": [
    "#Creating instances of Car class\n",
    "car1 = Car(\"Toyota\", \"Camry\", 2022, \"Gasoline\")\n",
    "car2 = Car(\"Tesla\", \"Model S\", 2023, \"Electric\")\n",
    "\n",
    "#Invoking subclass method for both instances\n",
    "car1.car_details()\n",
    "car2.car_details()"
   ]
  },
  {
   "cell_type": "markdown",
   "id": "8939e139",
   "metadata": {},
   "source": [
    "#### 7. Create a base class called \"Employee\" with attributes like \"name\" and \"salary.\" Derive two classes, \"Manager\" and \"Developer,\" from \"Employee.\" Add an additional attribute called \"department\" for the \"Manager\" class and \"programming_language\" for the \"Developer\" class."
   ]
  },
  {
   "cell_type": "code",
   "execution_count": 7,
   "id": "05a66567",
   "metadata": {},
   "outputs": [],
   "source": [
    "class Employee:\n",
    "    def __init__(self, name, salary):\n",
    "        self.name = name\n",
    "        self.salary = salary\n",
    "    def __str__(self):\n",
    "        return f\"Name: {self.name}, Salary: {self.salary}\"\n",
    "class Manager(Employee):\n",
    "    def __init__(self, name, salary, department):\n",
    "        super().__init__(name, salary)\n",
    "        self.department = department\n",
    "    def __str__(self):\n",
    "        return f\"{super().__str__()}, Department: {self.department}\"\n",
    "class Developer(Employee):\n",
    "    def __init__(self, name, salary, programming_language):\n",
    "        super().__init__(name, salary)\n",
    "        self.programming_language = programming_language\n",
    "    def __str__(self):\n",
    "        return f\"{super().__str__()}, Programming Language: {self.programming_language}\""
   ]
  },
  {
   "cell_type": "code",
   "execution_count": 8,
   "id": "f17a36d4",
   "metadata": {},
   "outputs": [
    {
     "name": "stdout",
     "output_type": "stream",
     "text": [
      "Name: Amlan Pati, Salary: 75000, Department: Human Resources\n",
      "Name: Anup Tripathy, Salary: 50000, Programming Language: Python\n"
     ]
    }
   ],
   "source": [
    "#Creating instance of Manager class and Developer class\n",
    "manager = Manager(\"Amlan Pati\", 75000, \"Human Resources\")\n",
    "developer = Developer(\"Anup Tripathy\", 50000, \"Python\")\n",
    "\n",
    "print(manager)\n",
    "print(developer)"
   ]
  },
  {
   "cell_type": "markdown",
   "id": "4ccb9667",
   "metadata": {},
   "source": [
    "#### 8. Design a base class called \"Shape\" with attributes like \"colour\" and \"border_width.\" Create derived classes, \"Rectangle\" and \"Circle,\" that inherit from \"Shape\" and add specific attributes like \"length\" and \"width\" for the \"Rectangle\" class and \"radius\" for the \"Circle\" class."
   ]
  },
  {
   "cell_type": "code",
   "execution_count": 9,
   "id": "2e2b1084",
   "metadata": {},
   "outputs": [],
   "source": [
    "class Shape:\n",
    "    def __init__(self, colour, border_width):\n",
    "        self.colour = colour\n",
    "        self.border_width = border_width\n",
    "    def __str__(self):\n",
    "        return f\"Colour: {self.colour}, Border Width: {self.border_width}\"\n",
    "class Rectangle(Shape):\n",
    "    def __init__(self, colour, border_width, length, width):\n",
    "        super().__init__(colour, border_width)\n",
    "        self.length = length\n",
    "        self.width = width\n",
    "    def __str__(self):\n",
    "        return f\"{super().__str__()}, Length: {self.length}, Width: {self.width}\"\n",
    "class Circle(Shape):\n",
    "    def __init__(self, colour, border_width, radius):\n",
    "        super().__init__(colour, border_width)\n",
    "        self.radius = radius\n",
    "    def __str__(self):\n",
    "        return f\"{super().__str__()}, Radius: {self.radius}\""
   ]
  },
  {
   "cell_type": "code",
   "execution_count": 10,
   "id": "7fe8371d",
   "metadata": {},
   "outputs": [
    {
     "name": "stdout",
     "output_type": "stream",
     "text": [
      "Colour: Blue, Border Width: 2, Length: 10, Width: 5\n",
      "Colour: Red, Border Width: 1, Radius: 7\n"
     ]
    }
   ],
   "source": [
    "#Creating instance of Rectangle class and Circle class\n",
    "rectangle = Rectangle(\"Blue\", 2, 10, 5)\n",
    "circle = Circle(\"Red\", 1, 7)\n",
    "\n",
    "print(rectangle)\n",
    "print(circle)"
   ]
  },
  {
   "cell_type": "markdown",
   "id": "2503e6d1",
   "metadata": {},
   "source": [
    "#### 9. Create a base class called \"Device\" with attributes like \"brand\" and \"model.\" Derive two classes, \"Phone\" and \"Tablet,\" from \"Device.\" Add specific attributes like \"screen_size\" for the \"Phone\" class and \"battery_capacity\" for the \"Tablet\" class."
   ]
  },
  {
   "cell_type": "code",
   "execution_count": 11,
   "id": "46c06890",
   "metadata": {},
   "outputs": [],
   "source": [
    "class Device:\n",
    "    def __init__(self, brand, model):\n",
    "        self.brand = brand\n",
    "        self.model = model\n",
    "    def __str__(self):\n",
    "        return f\"Brand: {self.brand}, Model: {self.model}\"\n",
    "class Phone(Device):\n",
    "    def __init__(self, brand, model, screen_size):\n",
    "        super().__init__(brand, model)\n",
    "        self.screen_size = screen_size\n",
    "    def __str__(self):\n",
    "        return f\"{super().__str__()}, Screen Size: {self.screen_size}\"\n",
    "class Tablet(Device):\n",
    "    def __init__(self, brand, model, battery_capacity):\n",
    "        super().__init__(brand, model)\n",
    "        self.battery_capacity = battery_capacity\n",
    "    def __str__(self):\n",
    "        return f\"{super().__str__()}, Battery Capacity: {self.battery_capacity}\""
   ]
  },
  {
   "cell_type": "code",
   "execution_count": 12,
   "id": "89cfe5d5",
   "metadata": {},
   "outputs": [
    {
     "name": "stdout",
     "output_type": "stream",
     "text": [
      "Brand: Samsung, Model: Galaxy S21, Screen Size: 6.2 inches\n",
      "Brand: Apple, Model: iPad Pro, Battery Capacity: 10000 mAh\n"
     ]
    }
   ],
   "source": [
    "#Creating instance of Phone class and Tablet class\n",
    "phone = Phone(\"Samsung\", \"Galaxy S21\", \"6.2 inches\")\n",
    "tablet = Tablet(\"Apple\", \"iPad Pro\", \"10000 mAh\")\n",
    "\n",
    "print(phone)\n",
    "print(tablet)"
   ]
  },
  {
   "cell_type": "markdown",
   "id": "48e009e3",
   "metadata": {},
   "source": [
    "#### 10. Create a base class called \"BankAccount\" with attributes like \"account_number\" and \"balance.\" Derive two classes, \"SavingsAccount\" and \"CheckingAccount,\" from \"BankAccount.\" Add specific methods like \"calculate_interest\" for the \"SavingsAccount\" class and \"deduct_fees\" for the \"CheckingAccount\" class."
   ]
  },
  {
   "cell_type": "code",
   "execution_count": 13,
   "id": "c086a7d4",
   "metadata": {},
   "outputs": [],
   "source": [
    "class BankAccount:\n",
    "    def __init__(self, account_number, balance):\n",
    "        self.account_number = account_number\n",
    "        self.balance = balance\n",
    "    def deposit(self, amount):\n",
    "        self.balance += amount\n",
    "    def withdraw(self, amount):\n",
    "        if amount <= self.balance:\n",
    "            self.balance -= amount\n",
    "            return True\n",
    "        else:\n",
    "            return False\n",
    "    def __str__(self):\n",
    "        return f\"Account Number: {self.account_number}, Balance: {self.balance:.2f}\"\n",
    "class SavingsAccount(BankAccount):\n",
    "    def __init__(self, account_number, balance):\n",
    "        super().__init__(account_number, balance)\n",
    "    def calculate_interest(self, interest_rate):\n",
    "        interest_amount = self.balance * interest_rate / 100\n",
    "        self.balance += interest_amount\n",
    "class CheckingAccount(BankAccount):\n",
    "    def __init__(self, account_number, balance):\n",
    "        super().__init__(account_number, balance)\n",
    "    def deduct_fees(self, fee_amount):\n",
    "        self.balance -= fee_amount"
   ]
  },
  {
   "cell_type": "code",
   "execution_count": 14,
   "id": "f72a5e4b",
   "metadata": {},
   "outputs": [
    {
     "name": "stdout",
     "output_type": "stream",
     "text": [
      "Account Number: 123456789, Balance: 1537.50\n",
      "Account Number: 987654321, Balance: 1490.00\n"
     ]
    }
   ],
   "source": [
    "#Creating instance for SavingsAccount class and CheckingAccount class\n",
    "savings_account = SavingsAccount(\"123456789\", 1000)\n",
    "checking_account = CheckingAccount(\"987654321\", 2000)\n",
    "\n",
    "savings_account.deposit(500)\n",
    "savings_account.calculate_interest(2.5)\n",
    "\n",
    "checking_account.withdraw(500)\n",
    "checking_account.deduct_fees(10)\n",
    "\n",
    "print(savings_account)\n",
    "print(checking_account)"
   ]
  }
 ],
 "metadata": {
  "kernelspec": {
   "display_name": "Python 3 (ipykernel)",
   "language": "python",
   "name": "python3"
  },
  "language_info": {
   "codemirror_mode": {
    "name": "ipython",
    "version": 3
   },
   "file_extension": ".py",
   "mimetype": "text/x-python",
   "name": "python",
   "nbconvert_exporter": "python",
   "pygments_lexer": "ipython3",
   "version": "3.11.3"
  }
 },
 "nbformat": 4,
 "nbformat_minor": 5
}
