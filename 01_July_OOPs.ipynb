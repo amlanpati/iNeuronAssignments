{
 "cells": [
  {
   "cell_type": "markdown",
   "id": "1010557e",
   "metadata": {},
   "source": [
    "#### 1. What is the primary goal of Object-Oriented Programming (OOP)?"
   ]
  },
  {
   "cell_type": "markdown",
   "id": "56b21001",
   "metadata": {},
   "source": [
    "The primary goal of Object-Oriented Programming (OOP) is to provide a typical programming model that promotes reusable, and maintainable code by organizing it around objects. The key concepts in OOP include objects, classes, inheritance, etc."
   ]
  },
  {
   "cell_type": "markdown",
   "id": "bdd2bf44",
   "metadata": {},
   "source": [
    "#### 2. What is an object in Python?"
   ]
  },
  {
   "cell_type": "markdown",
   "id": "10e4fbe2",
   "metadata": {},
   "source": [
    "In Python, an object is an instance of a class. It is a fundamental concept in Object-Oriented Programming (OOP). An object includes both data (attributes) and behavior (methods) related to that entity."
   ]
  },
  {
   "cell_type": "markdown",
   "id": "8ae56c93",
   "metadata": {},
   "source": [
    "#### 3. What is a class in Python?\n"
   ]
  },
  {
   "cell_type": "markdown",
   "id": "2f6a0c4c",
   "metadata": {},
   "source": [
    "In Python, a class is a blueprint for creating objects. It is a fundamental concept in Object-Oriented Programming (OOP) and serves as a logical structure that defines the attributes (data) and methods (behavior) that objects of that class will possess. A class is defined using the `class` keyword followed by the name of the class. An example of a simple class definition is as follows:"
   ]
  },
  {
   "cell_type": "code",
   "execution_count": 1,
   "id": "3d247dbd",
   "metadata": {},
   "outputs": [],
   "source": [
    "class Person:\n",
    "    def __init__(self, name, age):\n",
    "        self.name = name\n",
    "        self.age = age\n",
    "\n",
    "    def say_hello(self):\n",
    "        print(f\"Hello, my name is {self.name} and I am {self.age} years old.\")"
   ]
  },
  {
   "cell_type": "code",
   "execution_count": 2,
   "id": "36c78fe7",
   "metadata": {},
   "outputs": [
    {
     "name": "stdout",
     "output_type": "stream",
     "text": [
      "Hello, my name is Amlan and I am 25 years old.\n"
     ]
    }
   ],
   "source": [
    "person1 = Person(\"Amlan\", 25)\n",
    "person1.say_hello()"
   ]
  },
  {
   "cell_type": "markdown",
   "id": "a91dc6d2",
   "metadata": {},
   "source": [
    "#### 4. What are attributes and methods in a class?"
   ]
  },
  {
   "cell_type": "markdown",
   "id": "94cb7972",
   "metadata": {},
   "source": [
    "Attributes are the variables associated with a class or its instances. They represent the data of an object. <br>\n",
    "Methods are functions defined within a class that define the behavior of objects created from that class."
   ]
  },
  {
   "cell_type": "markdown",
   "id": "1f060614",
   "metadata": {},
   "source": [
    "#### 5. What is the difference between class variables and instance variables in Python?"
   ]
  },
  {
   "cell_type": "markdown",
   "id": "499dbc1b",
   "metadata": {},
   "source": [
    "Class variables are defined within the class but outside any methods. They are shared among all instances of the class.<br>\n",
    "Instance variables are defined within methods or the class's `__init__` method. They are unique to each instance of the class."
   ]
  },
  {
   "cell_type": "markdown",
   "id": "94781e05",
   "metadata": {},
   "source": [
    "#### 6. What is the purpose of the self parameter in Python class methods?"
   ]
  },
  {
   "cell_type": "markdown",
   "id": "0bb86723",
   "metadata": {},
   "source": [
    "The purpose of the `self` parameter is to allow access to the instance's attributes and methods within the class. When a method is called on an instance of a class, the instance is automatically passed as the first argument to the method, and by convention, this argument is named `self`."
   ]
  },
  {
   "cell_type": "markdown",
   "id": "f99bde86",
   "metadata": {},
   "source": [
    "#### 7. For a library management system, you have to design the \"Book\" class with OOP principles in mind. The “Book” class will have following attributes:\n",
    "##### a. title: Represents the title of the book.\n",
    "##### b. author: Represents the author(s) of the book.\n",
    "##### c. isbn: Represents the ISBN (International Standard Book Number) of the book.\n",
    "##### d. publication_year: Represents the year of publication of the book.\n",
    "##### e. available_copies: Represents the number of copies available for checkout.\n",
    "#### The class will also include the following methods:\n",
    "##### a. check_out(self): Decrements the available copies by one if there are copies available for checkout.\n",
    "##### b. return_book(self): Increments the available copies by one when a book is returned.\n",
    "##### c. display_book_info(self): Displays the information about the book, including its attributes and the number of available copies."
   ]
  },
  {
   "cell_type": "code",
   "execution_count": 3,
   "id": "fb2f577d",
   "metadata": {},
   "outputs": [],
   "source": [
    "class Book:\n",
    "    def __init__(self, title, author, isbn, publication_year, available_copies):\n",
    "        self.title = title\n",
    "        self.author = author\n",
    "        self.isbn = isbn\n",
    "        self.pub_yr = publication_year\n",
    "        self.avl_cp = available_copies\n",
    "        \n",
    "    def check_out(self):\n",
    "        if self.avl_cp > 0:\n",
    "            self.avl_cp -= 1\n",
    "            print(f\"The book '{self.title}' checked out.\")\n",
    "            print(\"---\" * 25)\n",
    "        else:\n",
    "            print(f\"There are no copies available of '{self.title}'.\")\n",
    "            print(\"---\" * 25)\n",
    "            \n",
    "    def return_book(self):\n",
    "        self.avl_cp += 1\n",
    "        print(f\"The book '{self.title}' returned.\")\n",
    "        print(\"---\" * 25)\n",
    "        \n",
    "    def display_book_info(self):\n",
    "        print(f\"Title : {self.title}\")\n",
    "        print(f\"Author : {self.author}\")\n",
    "        print(f\"ISBN : {self.isbn}\")\n",
    "        print(f\"Publication Year : {self.pub_yr}\")\n",
    "        print(f\"Available Copies : {self.avl_cp}\")\n",
    "        print(\"---\" * 25)"
   ]
  },
  {
   "cell_type": "code",
   "execution_count": 4,
   "id": "1d68e88c",
   "metadata": {},
   "outputs": [
    {
     "name": "stdout",
     "output_type": "stream",
     "text": [
      "The book 'Harry Potter and the Goblet of Fire' checked out.\n",
      "---------------------------------------------------------------------------\n",
      "There are no copies available of 'Harry Potter and the Goblet of Fire'.\n",
      "---------------------------------------------------------------------------\n",
      "The book 'Harry Potter and the Goblet of Fire' returned.\n",
      "---------------------------------------------------------------------------\n",
      "Title : Harry Potter and the Goblet of Fire\n",
      "Author : J.K. Rowling\n",
      "ISBN : 1408855682\n",
      "Publication Year : 2000\n",
      "Available Copies : 1\n",
      "---------------------------------------------------------------------------\n"
     ]
    }
   ],
   "source": [
    "book1 = Book(\"Harry Potter and the Goblet of Fire\", \"J.K. Rowling\", 1408855682, 2000, 1)\n",
    "book1.check_out()\n",
    "book1.check_out()\n",
    "book1.return_book()\n",
    "book1.display_book_info()"
   ]
  },
  {
   "cell_type": "markdown",
   "id": "1419ad36",
   "metadata": {},
   "source": [
    "#### 8. For a ticket booking system, you have to design the \"Ticket\" class with OOP principles in mind. The “Ticket” class should have the following attributes:\n",
    "##### a. ticket_id: Represents the unique identifier for the ticket.\n",
    "##### b. event_name: Represents the name of the event.\n",
    "##### c. event_date: Represents the date of the event.\n",
    "##### d. venue: Represents the venue of the event.\n",
    "##### e. seat_number: Represents the seat number associated with the ticket.\n",
    "##### f. price: Represents the price of the ticket.\n",
    "##### g. is_reserved: Represents the reservation status of the ticket.\n",
    "#### The class also includes the following methods:\n",
    "##### a. reserve_ticket(self): Marks the ticket as reserved if it is not already reserved.\n",
    "##### b. cancel_reservation(self): Cancels the reservation of the ticket if it is already reserved.\n",
    "##### c. display_ticket_info(self): Displays the information about the ticket, including its attributes and reservation status."
   ]
  },
  {
   "cell_type": "code",
   "execution_count": 5,
   "id": "6ef6a2ab",
   "metadata": {},
   "outputs": [],
   "source": [
    "class Ticket:\n",
    "    def __init__(self, ticket_id, event_name, event_date, venue, seat_number, price):\n",
    "        self.id = ticket_id\n",
    "        self.name = event_name\n",
    "        self.date = event_date\n",
    "        self.venue = venue\n",
    "        self.st_num = seat_number\n",
    "        self.price = price\n",
    "        self.is_reserved = False\n",
    "    def reserve_ticket(self):\n",
    "        if not self.is_reserved:\n",
    "            self.is_reserved = True\n",
    "            print(f\"Ticket reserved for '{self.name}'.Seat number : {self.st_num}\")\n",
    "            print(\"---\" * 20)\n",
    "        else:\n",
    "            print(f\"Seat number : {self.st_num} is already reserved.\")\n",
    "            print(\"---\" * 20)\n",
    "            \n",
    "    def cancel_reservation(self):\n",
    "        if self.is_reserved:\n",
    "            self.is_reserved = False\n",
    "            print(f\"Reservation canceled for '{self.name}', seat number : {self.st_num}\")\n",
    "            print(\"---\" * 20)\n",
    "        else:\n",
    "            print(f\"There is no reservation for '{self.name}', seat number : {self.st_num}\")\n",
    "            print(\"---\" * 20)\n",
    "        \n",
    "    def display_ticket_info(self):\n",
    "        print(f\"Ticket ID : {self.id}\")\n",
    "        print(f\"Event Name : {self.name}\")\n",
    "        print(f\"Event Date : {self.date}\")\n",
    "        print(f\"Venue : {self.venue}\")\n",
    "        print(f\"Seat Number : {self.st_num}\")\n",
    "        print(f\"Price : {self.price}\")\n",
    "        print(f\"Reservation status :\", \"Reserved\" if self.is_reserved else \"Not Reserved\")\n",
    "        print(\"---\" * 20)"
   ]
  },
  {
   "cell_type": "code",
   "execution_count": 6,
   "id": "17dc06ae",
   "metadata": {},
   "outputs": [
    {
     "name": "stdout",
     "output_type": "stream",
     "text": [
      "Ticket reserved for 'OOPs using Python'.Seat number : 45\n",
      "------------------------------------------------------------\n",
      "Seat number : 45 is already reserved.\n",
      "------------------------------------------------------------\n",
      "Reservation canceled for 'OOPs using Python', seat number : 45\n",
      "------------------------------------------------------------\n",
      "There is no reservation for 'OOPs using Python', seat number : 45\n",
      "------------------------------------------------------------\n",
      "Ticket ID : 123\n",
      "Event Name : OOPs using Python\n",
      "Event Date : 08.07.23\n",
      "Venue : Conference Hall\n",
      "Seat Number : 45\n",
      "Price : 2000\n",
      "Reservation status : Not Reserved\n",
      "------------------------------------------------------------\n"
     ]
    }
   ],
   "source": [
    "ticket1 = Ticket(123, \"OOPs using Python\", '08.07.23', 'Conference Hall', 45, 2000)\n",
    "ticket1.reserve_ticket()\n",
    "ticket1.reserve_ticket()\n",
    "ticket1.cancel_reservation()\n",
    "ticket1.cancel_reservation()\n",
    "ticket1.display_ticket_info()"
   ]
  },
  {
   "cell_type": "markdown",
   "id": "6c25a6f7",
   "metadata": {},
   "source": [
    "#### 9. You are creating a shopping cart for an e-commerce website. Using OOP to model the \"ShoppingCart\" functionality the class should contain following attributes:\n",
    "##### a. items: Represents the list of items in the shopping cart.\n",
    "#### The class also includes the following methods:\n",
    "##### a. add_item(self, item): Adds an item to the shopping cart by appending it to the list of items.\n",
    "##### b. remove_item(self, item): Removes an item from the shopping cart if it exists in the list.\n",
    "##### c. view_cart(self): Displays the items currently present in the shopping cart.\n",
    "##### d. clear_cart(self): Clears all items from the shopping cart by reassigning an empty list to the items attribute."
   ]
  },
  {
   "cell_type": "code",
   "execution_count": 7,
   "id": "ff294a89",
   "metadata": {},
   "outputs": [],
   "source": [
    "class ShoppingCart:\n",
    "    def __init__(self, items):\n",
    "        self.items = items\n",
    "    def add_item(self, item):\n",
    "        self.items.append(item)\n",
    "        print(f\"'{item}' has been added to the shopping cart.\")\n",
    "    def remove_item(self, item):\n",
    "        if item in self.items:\n",
    "            self.items.remove(item)\n",
    "        print(f\"'{item}' has been removed from the shopping cart.\")\n",
    "    def view_cart(self):\n",
    "        print(\"The cart has the following items : \")\n",
    "        for item in self.items:\n",
    "            print(item)\n",
    "        print('----'*10)\n",
    "    def clear_cart(self):\n",
    "        self.items =[]\n",
    "        print(\"The shopping cart has been cleared.\")"
   ]
  },
  {
   "cell_type": "code",
   "execution_count": 8,
   "id": "76c05411",
   "metadata": {},
   "outputs": [
    {
     "name": "stdout",
     "output_type": "stream",
     "text": [
      "'chocos' has been added to the shopping cart.\n",
      "'milk' has been removed from the shopping cart.\n",
      "The cart has the following items : \n",
      "bread\n",
      "cornflakes\n",
      "chocos\n",
      "----------------------------------------\n",
      "The shopping cart has been cleared.\n"
     ]
    }
   ],
   "source": [
    "cart = ShoppingCart(['bread', 'cornflakes', 'milk'])\n",
    "cart.add_item('chocos')\n",
    "cart.remove_item('milk')\n",
    "cart.view_cart()\n",
    "cart.clear_cart()"
   ]
  },
  {
   "cell_type": "markdown",
   "id": "d497c9f0",
   "metadata": {},
   "source": [
    "#### 10. Imagine a school management system. You have to design the \"Student\" class using OOP concepts.The “Student” class has the following attributes:\n",
    "##### a. name: Represents the name of the student.\n",
    "##### b. age: Represents the age of the student.\n",
    "##### c. grade: Represents the grade or class of the student.\n",
    "##### d. student_id: Represents the unique identifier for the student.\n",
    "##### e. attendance: Represents the attendance record of the student.\n",
    "#### The class should also include the following methods:\n",
    "##### a. update_attendance(self, date, status): Updates the attendance record of the student for a given date with the provided status (e.g., present or absent).\n",
    "##### b. get_attendance(self): Returns the attendance record of the student.\n",
    "##### c. get_average_attendance(self): Calculates and returns the average attendance percentage of the student based on their attendance record."
   ]
  },
  {
   "cell_type": "code",
   "execution_count": 9,
   "id": "ec08b47e",
   "metadata": {},
   "outputs": [],
   "source": [
    "class Student:\n",
    "    def __init__(self, name, age, grade, student_id):\n",
    "        self.name = name\n",
    "        self.age = age\n",
    "        self.grade = grade\n",
    "        self.id = student_id\n",
    "        self.attendance = {} # attendance is a dictionary with date as key and status as value\n",
    "    def update_attendance(self, date, status):\n",
    "        self.attendance[date] = status\n",
    "    def get_attendance(self):\n",
    "        return self.attendance\n",
    "    def get_average_attendance(self):\n",
    "        total_days = len(self.attendance)\n",
    "        present_days = sum(1 for status in self.attendance.values() if status == 'present')\n",
    "        attendance_percentage = (present_days / total_days) * 100 if total_days > 0 else 0\n",
    "        return attendance_percentage"
   ]
  },
  {
   "cell_type": "code",
   "execution_count": 10,
   "id": "595fb9d1",
   "metadata": {},
   "outputs": [
    {
     "name": "stdout",
     "output_type": "stream",
     "text": [
      "Attendace record : {'2023-07-10': 'present', '2023-07-11': 'absent'}\n",
      "The average attendance is 50.0 %.\n"
     ]
    }
   ],
   "source": [
    "# Creating a student object\n",
    "student1 = Student(\"Anup Tripathy\", 14, \"8th Grade\", \"12345\")\n",
    "\n",
    "# Updating attendance\n",
    "student1.update_attendance(\"2023-07-10\", \"present\")\n",
    "student1.update_attendance(\"2023-07-11\", \"absent\")\n",
    "\n",
    "# Getting attendance record\n",
    "attendance_record = student1.get_attendance()\n",
    "print(\"Attendace record :\", attendance_record)  # {'2023-07-10': 'present', '2023-07-11': 'absent'}\n",
    "\n",
    "# Getting average attendance\n",
    "average_attendance = student1.get_average_attendance()\n",
    "print(\"The average attendance is\", average_attendance, \"%.\")  # 50.0"
   ]
  }
 ],
 "metadata": {
  "kernelspec": {
   "display_name": "Python 3 (ipykernel)",
   "language": "python",
   "name": "python3"
  },
  "language_info": {
   "codemirror_mode": {
    "name": "ipython",
    "version": 3
   },
   "file_extension": ".py",
   "mimetype": "text/x-python",
   "name": "python",
   "nbconvert_exporter": "python",
   "pygments_lexer": "ipython3",
   "version": "3.11.3"
  }
 },
 "nbformat": 4,
 "nbformat_minor": 5
}
